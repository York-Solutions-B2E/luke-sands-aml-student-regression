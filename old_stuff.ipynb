{
 "cells": [
  {
   "cell_type": "code",
   "execution_count": null,
   "metadata": {},
   "outputs": [],
   "source": [
    "# new_student = \"INSERT INTO student_grades VALUES ('GP','M',17,'U','LE3','T',4,F,'teacher','teacher','course','mother',3,2,0,'no','no','no','no','no','no','no','no',1,1,1,1,1,1,1,1,1,1);\"\n",
    "# cursor.execute(new_student)"
   ]
  },
  {
   "cell_type": "code",
   "execution_count": null,
   "metadata": {},
   "outputs": [],
   "source": [
    "# student_info = (school=\"GP\",sex=\"M\",age=17,address=\"U\",famsize=\"LE3\",Pstatus=\"T\",Medu=4,Fedu=3,Mjob=\"teacher\",Fjob=\"teacher\",reason=\"course\",guardian=\"mother\",traveltime=\"3\",studytime=\"2\",failures=\"0\",schoolsup=\"no\",famsup=\"no\",paid=\"no\",activities=\"no\",nursery=\"no\",higher=\"no\",internet=\"no\",romantic=\"no\",famrel=\"1\",freetime=\"1\",goout=\"1\",Dalc=\"1\",Walc=\"1\",health=\"1\",absences=\"1\",G1=\"1\",G2=\"1\",G3=\"1\")"
   ]
  },
  {
   "cell_type": "code",
   "execution_count": null,
   "metadata": {},
   "outputs": [],
   "source": [
    "# (school=\"GP\",sex=\"M\",age=17,address=\"U\",famsize=\"LE3\",Pstatus=\"T\",Medu=4,Fedu=3,Mjob=\"teacher\",Fjob=\"teacher\",reason=\"course\",guardian=\"mother\",traveltime=\"3\",studytime=\"2\",failures=\"0\",schoolsup=\"no\",famsup=\"no\",paid=\"no\",activities=\"no\",nursery=\"no\",higher=\"no\",internet=\"no\",romantic=\"no\",famrel=\"1\",freetime=\"1\",goout=\"1\",Dalc=\"1\",Walc=\"1\",health=\"1\",absences=\"1\",G1=\"1\",G2=\"1\",G3=\"1\")"
   ]
  },
  {
   "cell_type": "code",
   "execution_count": null,
   "metadata": {},
   "outputs": [],
   "source": [
    "#Add new student to table\n",
    "# INSERT INTO df (table_values) VALUES (1, 'Cheese', 9.99);\n"
   ]
  },
  {
   "cell_type": "code",
   "execution_count": null,
   "metadata": {},
   "outputs": [],
   "source": [
    "# new_student = insert(student_grades).values(\n",
    "#     school=\"GP\",\n",
    "#     sex=\"M\",\n",
    "#     age=17,\n",
    "#     address=\"U\",\n",
    "#     famsize=\"LE3\",\n",
    "#     Pstatus=\"T\",\n",
    "#     Medu=4,\n",
    "#     Fedu=3,\n",
    "#     Mjob=\"teacher\",\n",
    "#     Fjob=\"teacher\",\n",
    "#     reason=\"course\",\n",
    "#     guardian=\"mother\",\n",
    "#     traveltime=\"3\",\n",
    "#     studytime=\"2\",\n",
    "#     failures=\"0\",\n",
    "#     schoolsup=\"no\",\n",
    "#     famsup=\"no\",\n",
    "#     paid=\"no\",\n",
    "#     activities=\"no\",\n",
    "#     nursery=\"no\",\n",
    "#     higher=\"no\",\n",
    "#     internet=\"no\",\n",
    "#     romantic=\"no\",\n",
    "#     famrel=\"1\",\n",
    "#     freetime=\"1\",\n",
    "#     goout=\"1\",\n",
    "#     Dalc=\"1\",\n",
    "#     Walc=\"1\",\n",
    "#     health=\"1\",\n",
    "#     absences=\"1\",\n",
    "#     G1=\"1\",\n",
    "#     G2=\"1\",\n",
    "#     G3=\"1\",\n",
    "# )\n",
    "# print(new_student)"
   ]
  },
  {
   "cell_type": "code",
   "execution_count": null,
   "metadata": {},
   "outputs": [],
   "source": [
    "# # Create New Student Information Dictionary, convert to Pandas DataFrame\n",
    "# new_student = {\n",
    "#     \"school\": \"GP\",\n",
    "#     \"sex\": \"M\",\n",
    "#     \"age\": 17,\n",
    "#     \"address\": \"U\",\n",
    "#     \"famsize\": \"LE3\",\n",
    "#     \"Pstatus\": \"T\",\n",
    "#     \"Medu\": 4,\n",
    "#     \"Fedu\": 3,\n",
    "#     \"Mjob\": \"teacher\",\n",
    "#     \"Fjob\": \"teacher\",\n",
    "#     \"reason\": \"course\",\n",
    "#     \"guardian\": \"mother\",\n",
    "#     \"traveltime\": 3,\n",
    "#     \"studytime\": 2,\n",
    "#     \"failures\": 0,\n",
    "#     \"schoolsup\": \"no\",\n",
    "#     \"famsup\": \"no\",\n",
    "#     \"paid\": \"no\",\n",
    "#     \"activities\": \"no\",\n",
    "#     \"nursery\": \"no\",\n",
    "#     \"higher\": \"no\",\n",
    "#     \"internet\": \"no\",\n",
    "#     \"romantic\": \"no\",\n",
    "#     \"famrel\": 1,\n",
    "#     \"freetime\": 1,\n",
    "#     \"goout\": 1,\n",
    "#     \"Dalc\": 1,\n",
    "#     \"Walc\": 1,\n",
    "#     \"health\": 1,\n",
    "#     \"absences\": 1,\n",
    "#     \"G1\": 1,\n",
    "#     \"G2\": 1,\n",
    "#     \"G3\": 1,\n",
    "# }\n",
    "# new_student_df = pd.DataFrame.from_dict(new_student, orient=\"index\").T"
   ]
  },
  {
   "cell_type": "code",
   "execution_count": null,
   "metadata": {},
   "outputs": [],
   "source": [
    "# # Send new student data to \n",
    "# new_student_df.columns = (new_student_df.columns.str.lower())  \n",
    "\n",
    "# # Export DataFrame to PostgreSQL table \"student_grades\" using SQLAlchemy\n",
    "# new_student_df.to_sql(table_name, engine, index=False, if_exists=\"append\")"
   ]
  },
  {
   "cell_type": "code",
   "execution_count": null,
   "metadata": {},
   "outputs": [],
   "source": [
    "# # ALTERNATE CONNECTION METHOD USING PSYCOPG2\n",
    "# # Connect to the database\n",
    "# connection = psycopg2.connect(\n",
    "#     host=\"localhost\",\n",
    "#     user=\"postgres\",\n",
    "#     password=\"password\",\n",
    "#     database=\"student_grades\",\n",
    "# )\n",
    "# cursor = connection.cursor()\n",
    "\n",
    "# # Prepare the SQL command dynamically\n",
    "# columns = \", \".join(new_student.keys())\n",
    "# placeholders = \", \".join([\"%s\"] * len(new_student))\n",
    "# sql = f\"INSERT INTO student_grades ({columns}) VALUES ({placeholders})\"\n",
    "\n",
    "# # Specify values for the new row\n",
    "# values = tuple(new_student.values())\n",
    "\n",
    "# # Execute the SQL command\n",
    "# cursor.execute(sql, values)\n",
    "\n",
    "# # Commit the transaction\n",
    "# connection.commit()\n",
    "\n",
    "# # Close the cursor and connection\n",
    "# cursor.close()\n",
    "# connection.close()"
   ]
  },
  {
   "cell_type": "code",
   "execution_count": null,
   "metadata": {},
   "outputs": [],
   "source": [
    "# # New student insert object\n",
    "# def add_student(student_info)\n",
    "\n",
    "#     conn = psycopg2.connect(\n",
    "#         host=\"localhost\",\n",
    "#         user=\"postgres\",\n",
    "#         password=\"password\",\n",
    "#         database=\"student_grades\",\n",
    "#     )\n",
    "#     cursor = conn.cursor()\n",
    "\n",
    "#     sql = INSERT tablename VALUES ('')\n",
    "#     val_holder = \", \".join([\"%s\"] * len(student_info))\n",
    "#     sql = f\"INSERT INTO student_grades VALUES ({val_holder})\"\n",
    "#     values = tuple(student_info.values())\n",
    "#     cursor.execute(sql, values)\n",
    "#     conn.commit()\n",
    "#     cursor.close()\n",
    "#     conn.close()\n",
    "\n"
   ]
  }
 ],
 "metadata": {
  "language_info": {
   "name": "python"
  }
 },
 "nbformat": 4,
 "nbformat_minor": 2
}
